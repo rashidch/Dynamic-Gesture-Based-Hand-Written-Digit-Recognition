{
 "cells": [
  {
   "cell_type": "code",
   "execution_count": 1,
   "metadata": {},
   "outputs": [
    {
     "name": "stderr",
     "output_type": "stream",
     "text": [
      "Using TensorFlow backend.\n"
     ]
    }
   ],
   "source": [
    "import keras\n",
    "import tensorflow as tf\n",
    "import os\n",
    "import cv2\n",
    "import numpy as np\n",
    "import glob\n",
    "import matplotlib.pyplot as plt\n",
    "from skimage.io import imread\n",
    "from skimage.color import gray2rgb, rgb2gray\n",
    "from skimage.transform import resize"
   ]
  },
  {
   "cell_type": "code",
   "execution_count": 2,
   "metadata": {},
   "outputs": [],
   "source": [
    "%matplotlib inline"
   ]
  },
  {
   "cell_type": "code",
   "execution_count": 3,
   "metadata": {},
   "outputs": [],
   "source": [
    "from tensorflow.python.client import device_lib\n",
    "\n",
    "def get_available_gpus():\n",
    "    local_device_protos = device_lib.list_local_devices()\n",
    "    return [x.name for x in local_device_protos if x.device_type == 'GPU']"
   ]
  },
  {
   "cell_type": "code",
   "execution_count": 4,
   "metadata": {},
   "outputs": [
    {
     "data": {
      "text/plain": [
       "['/device:GPU:0']"
      ]
     },
     "execution_count": 4,
     "metadata": {},
     "output_type": "execute_result"
    }
   ],
   "source": [
    "get_available_gpus()"
   ]
  },
  {
   "cell_type": "code",
   "execution_count": null,
   "metadata": {},
   "outputs": [],
   "source": []
  },
  {
   "cell_type": "code",
   "execution_count": null,
   "metadata": {},
   "outputs": [],
   "source": [
    "\n",
    "for dir in glob.glob('C:/Users/rashi/Desktop/Elevator/data/*'):\n",
    "    image_files = glob.glob(dir + '/*.jpg')\n",
    "    label = dir.split('\\\\')[-1]\n",
    "    print(label, len(image_files))\n",
    "    for image_file in image_files:\n",
    "        image = cv2.imread(image_file,cv2.IMREAD_UNCHANGED)\n",
    "        image = cv2.resize(image, dsize=(32,32),interpolation = cv2.INTER_AREA)\n",
    "        if len(image.shape) == 2: # if a gray-scale image\n",
    "            #image = rgb2gray(image)\n",
    "            image = gray2rbg(image)\n",
    "        images.append(image)\n",
    "        X.append(image)\n",
    "        y.append(label)"
   ]
  },
  {
   "cell_type": "code",
   "execution_count": null,
   "metadata": {},
   "outputs": [],
   "source": [
    "num ='124'\n",
    "label = list()\n",
    "for i in num:\n",
    "    label.append(i)\n",
    "label"
   ]
  },
  {
   "cell_type": "code",
   "execution_count": 28,
   "metadata": {},
   "outputs": [
    {
     "name": "stdout",
     "output_type": "stream",
     "text": [
      "1 8\n",
      "10 0\n",
      "2 30\n",
      "21 0\n",
      "3 35\n",
      "4 33\n",
      "5 31\n",
      "6 14\n",
      "7 0\n",
      "8 0\n",
      "9 0\n",
      "01 521\n",
      "02 519\n",
      "03 532\n",
      "1 61\n",
      "10 509\n",
      "11 518\n",
      "12 526\n",
      "13 506\n",
      "14 540\n",
      "15 531\n",
      "16 530\n",
      "17 519\n",
      "18 523\n",
      "19 522\n",
      "2 55\n",
      "20 122\n",
      "3 62\n",
      "4 57\n",
      "5 56\n",
      "6 53\n",
      "7 57\n",
      "8 57\n",
      "9 56\n",
      "7583 (7583, 64, 64, 3) (7583, 2)\n"
     ]
    }
   ],
   "source": [
    "images = []\n",
    "X, y = [], []\n",
    "y2 = []\n",
    "\n",
    "for dir in glob.glob('C:/Users/rashi/Desktop/Elevator/data/*'):\n",
    "    image_files = glob.glob(dir + '/*.jpg')\n",
    "    label = dir.split('\\\\')[-1]\n",
    "    print(label, len(image_files))\n",
    "    for image_file in image_files:\n",
    "        image = cv2.imread(image_file,cv2.IMREAD_UNCHANGED)\n",
    "        image = cv2.resize(image, dsize=(64,64),interpolation = cv2.INTER_AREA)\n",
    "        if len(image.shape) == 2: # if a gray-scale image\n",
    "            #image = rgb2gray(image)\n",
    "            image = gray2rbg(image)\n",
    "        images.append(image)\n",
    "        X.append(image)\n",
    "        y.append(label)\n",
    "        \n",
    "        label2 = [int(i) for i in label]\n",
    "        \n",
    "        if len(label2)!=2:\n",
    "            itr = 2-len(label2)\n",
    "            for _ in range(itr):\n",
    "                label2.append(10)\n",
    "    \n",
    "        y2.append(np.array(label2))\n",
    "    label2=0\n",
    "\n",
    "#load again\n",
    "for dir in glob.glob('C:/Users/rashi/Desktop/Elevator/zipdata4/*'):\n",
    "    image_files = glob.glob(dir + '/*.jpg')\n",
    "    label = dir.split('\\\\')[-1]\n",
    "    print(label, len(image_files))\n",
    "    for image_file in image_files:\n",
    "        image = cv2.imread(image_file,cv2.IMREAD_UNCHANGED)\n",
    "        image = cv2.resize(image, dsize=(64,64),interpolation = cv2.INTER_AREA)\n",
    "        if len(image.shape) == 2: # if a gray-scale image\n",
    "            #image = rgb2gray(image)\n",
    "            image = gray2rbg(image)\n",
    "            #image = np.expand_dims(image, axis=2)\n",
    "            \n",
    "        images.append(image)\n",
    "        X.append(image)\n",
    "        y.append(label)\n",
    "        \n",
    "        label2 = [int(i) for i in label]\n",
    "        \n",
    "        if len(label2)!=2:\n",
    "            itr = 2-len(label2)\n",
    "            for _ in range(itr):\n",
    "                label2.append(10)\n",
    "    \n",
    "        y2.append(np.array(label2))\n",
    "    label2=0\n",
    "#convert to numpy array\n",
    "test_x = np.ones((len(X),64,64,3))\n",
    "for i in range(len(X)):\n",
    "    test_x[i] = X[i]\n",
    "y = np.array(y2)\n",
    "X = np.array(X)\n",
    "print(len(images),test_x.shape, y.shape)\n",
    "\n",
    "#save on disk in numpy format    \n",
    "np.save('mltdigit_x.npy',X)\n",
    "np.save('mltdigit_y.npy',y)"
   ]
  },
  {
   "cell_type": "code",
   "execution_count": 37,
   "metadata": {},
   "outputs": [
    {
     "data": {
      "text/plain": [
       "array([0, 1])"
      ]
     },
     "execution_count": 37,
     "metadata": {},
     "output_type": "execute_result"
    }
   ],
   "source": [
    "y[300]"
   ]
  },
  {
   "cell_type": "code",
   "execution_count": 38,
   "metadata": {},
   "outputs": [],
   "source": [
    "data_x = np.load('mltdigit_x.npy')\n",
    "data_y = np.load('mltdigit_y.npy')"
   ]
  },
  {
   "cell_type": "code",
   "execution_count": 39,
   "metadata": {},
   "outputs": [],
   "source": [
    "from sklearn.utils import shuffle\n",
    "data_x, data_y = shuffle(data_x, data_y, random_state= 1234)"
   ]
  },
  {
   "cell_type": "code",
   "execution_count": 40,
   "metadata": {},
   "outputs": [
    {
     "data": {
      "text/plain": [
       "((7583, 64, 64, 3), (7583, 2))"
      ]
     },
     "execution_count": 40,
     "metadata": {},
     "output_type": "execute_result"
    }
   ],
   "source": [
    "data_x.shape, data_y.shape"
   ]
  },
  {
   "cell_type": "code",
   "execution_count": 41,
   "metadata": {},
   "outputs": [
    {
     "data": {
      "text/plain": [
       "(64, 64, 3)"
      ]
     },
     "execution_count": 41,
     "metadata": {},
     "output_type": "execute_result"
    }
   ],
   "source": [
    "np.squeeze(images[200]).shape"
   ]
  },
  {
   "cell_type": "code",
   "execution_count": 43,
   "metadata": {},
   "outputs": [
    {
     "data": {
      "text/plain": [
       "array([0, 3])"
      ]
     },
     "execution_count": 43,
     "metadata": {},
     "output_type": "execute_result"
    }
   ],
   "source": [
    "data_y[300]"
   ]
  },
  {
   "cell_type": "code",
   "execution_count": 44,
   "metadata": {},
   "outputs": [
    {
     "data": {
      "text/plain": [
       "<matplotlib.image.AxesImage at 0x20199795788>"
      ]
     },
     "execution_count": 44,
     "metadata": {},
     "output_type": "execute_result"
    },
    {
     "data": {
      "image/png": "[encoded data removed]",
      "text/plain": [
       "<Figure size 432x288 with 1 Axes>"
      ]
     },
     "metadata": {
      "needs_background": "light"
     },
     "output_type": "display_data"
    }
   ],
   "source": [
    "plt.imshow(data_x[300])"
   ]
  },
  {
   "cell_type": "code",
   "execution_count": 44,
   "metadata": {},
   "outputs": [
    {
     "data": {
      "text/plain": [
       "((4228, 64, 64, 3), (4228, 2), (1000, 64, 64, 3), (1000, 2))"
      ]
     },
     "execution_count": 44,
     "metadata": {},
     "output_type": "execute_result"
    }
   ],
   "source": [
    "def random_sample(N, K):\n",
    "    \"\"\"Return a boolean mask of size N with K selections\n",
    "    \"\"\"\n",
    "    mask = np.array([True]*K + [False]*(N-K))\n",
    "    np.random.shuffle(mask)\n",
    "    return mask\n",
    "\n",
    "# Pick 4000 training and 2000 extra samples\n",
    "sample1 = random_sample(data_x.shape[0], 1000)\n",
    "\n",
    "X_test = data_x[sample1]\n",
    "y_test = data_y[sample1]\n",
    "\n",
    "X_train = data_x[~sample1]\n",
    "y_train = data_y[~sample1]\n",
    "\n",
    "X_train.shape, y_train.shape, X_test.shape, y_test.shape"
   ]
  },
  {
   "cell_type": "code",
   "execution_count": null,
   "metadata": {},
   "outputs": [],
   "source": [
    "y2[200]"
   ]
  },
  {
   "cell_type": "code",
   "execution_count": 45,
   "metadata": {},
   "outputs": [
    {
     "data": {
      "image/png": "[encoded data removed]",
      "text/plain": [
       "<Figure size 720x720 with 16 Axes>"
      ]
     },
     "metadata": {
      "needs_background": "light"
     },
     "output_type": "display_data"
    }
   ],
   "source": [
    "n = 6\n",
    "indices = np.random.choice(len(test_x), 4*4)\n",
    "plt.figure(figsize=(10,10))\n",
    "plt.gray()\n",
    "i = 1\n",
    "for index in indices:\n",
    "    title = [x for x in y[index] if x!=10]\n",
    "    plt.subplot(n,n,i), plt.imshow(np.squeeze(images[index])), plt.axis('off'), plt.title(title, size=20)\n",
    "    i += 1\n",
    "plt.show()"
   ]
  },
  {
   "cell_type": "code",
   "execution_count": null,
   "metadata": {},
   "outputs": [],
   "source": [
    "images = []\n",
    "X, y = [], []\n",
    "resize =(32,32)\n",
    "for dir in glob.glob('C:/Users/rashi/Desktop/Elevator/data/*'):\n",
    "    image_files = glob.glob(dir + '/*.jpg')\n",
    "    label = dir.split('\\\\')[-1]\n",
    "    print(label, len(image_files))\n",
    "    for image_file in image_files:\n",
    "        image = cv2.imread(image_file,cv2.IMREAD_UNCHANGED)\n",
    "        image = cv2.resize(image, dsize=resize, interpolation = cv2.INTER_AREA)\n",
    "        if len(image.shape) == 2: # if a gray-scale image\n",
    "            #image = rgb2gray(image)\n",
    "            image = gray2rbg(image)\n",
    "        if int(label)<10:\n",
    "            images.append(image)\n",
    "            X.append(image)\n",
    "            y.append(label)\n",
    "\n",
    "#load again\n",
    "for dir in glob.glob('C:/Users/rashi/Desktop/Elevator/zipdata/*'):\n",
    "    image_files = glob.glob(dir + '/*.jpg')\n",
    "    label = dir.split('\\\\')[-1]\n",
    "    print(label, len(image_files))\n",
    "    for image_file in image_files:\n",
    "        image = cv2.imread(image_file,cv2.IMREAD_UNCHANGED)\n",
    "        image = cv2.resize(image, dsize=resize, interpolation = cv2.INTER_AREA)\n",
    "        if len(image.shape) == 2: # if a gray-scale image\n",
    "            #image = rgb2gray(image)\n",
    "            image = gray2rbg(image)\n",
    "        if int(label)<10:\n",
    "            images.append(image)\n",
    "            X.append(image)\n",
    "            y.append(label)\n",
    "\n",
    "#convert to numpy array\n",
    "test_x = np.ones((len(X),32,32,3))\n",
    "for i in range(len(X)):\n",
    "    test_x[i] = X[i]\n",
    "y = np.array(y)\n",
    "\n",
    "print(len(images),test_x.shape, y.shape)\n",
    "\n",
    "#save on disk in numpy format    \n",
    "np.save('test32_x.npy',X)\n",
    "np.save('test32_y.npy',y)"
   ]
  },
  {
   "cell_type": "code",
   "execution_count": null,
   "metadata": {},
   "outputs": [],
   "source": [
    "np.load('test32_x.npy')"
   ]
  },
  {
   "cell_type": "code",
   "execution_count": null,
   "metadata": {},
   "outputs": [],
   "source": [
    "np.load('C:/Users/rashi/Desktop/Elevator/multi_digit_y.npy')"
   ]
  },
  {
   "cell_type": "markdown",
   "metadata": {},
   "source": [
    "### data augmentation"
   ]
  },
  {
   "cell_type": "code",
   "execution_count": null,
   "metadata": {},
   "outputs": [],
   "source": [
    "images = []\n",
    "X, y = [], []\n",
    "y2 = []\n",
    "\n",
    "\n",
    "for dir in glob.glob('C:/Users/rashi/Desktop/Elevator/data/*'):\n",
    "    image_files = glob.glob(dir + '/*.jpg')\n",
    "    label = dir.split('\\\\')[-1]\n",
    "    print(label, len(image_files))\n",
    "    for image_file in image_files:\n",
    "        image = cv2.imread(image_file,cv2.IMREAD_UNCHANGED)\n",
    "        image = cv2.resize(image, dsize=(64,64),interpolation = cv2.INTER_AREA)\n",
    "        if len(image.shape) == 2: # if a gray-scale image\n",
    "            #image = rgb2gray(image)\n",
    "            image = gray2rbg(image)\n",
    "        images.append(image)\n",
    "        X.append(image)\n",
    "        y.append(label)\n",
    "        \n",
    "        label2 = [int(i) for i in label]\n",
    "        \n",
    "        if len(label2)!=2:\n",
    "            itr = 2-len(label2)\n",
    "            for _ in range(itr):\n",
    "                label2.append(10)\n",
    "    \n",
    "        y2.append(np.array(label2))\n",
    "    label2=0\n",
    "\n",
    "for dir in glob.glob('C:/Users/rashi/Desktop/Elevator/zipdata/*'):\n",
    "    image_files = glob.glob(dir + '/*.jpg')\n",
    "    label = dir.split('\\\\')[-1]\n",
    "    print(label, len(image_files))\n",
    "    for image_file in image_files:\n",
    "        image = cv2.imread(image_file,cv2.IMREAD_UNCHANGED)\n",
    "        image = cv2.resize(image, dsize=(64,64),interpolation = cv2.INTER_AREA)\n",
    "        if len(image.shape) == 2: # if a gray-scale image\n",
    "            #image = rgb2gray(image)\n",
    "            image = gray2rbg(image)\n",
    "        images.append(image)\n",
    "        X.append(image)\n",
    "        y.append(label)\n",
    "        \n",
    "        label2 = [int(i) for i in label]\n",
    "        \n",
    "        if len(label2)!=2:\n",
    "            itr = 2-len(label2)\n",
    "            for _ in range(itr):\n",
    "                label2.append(10)\n",
    "    \n",
    "        y2.append(np.array(label2))\n",
    "    label2=0\n",
    "    \n",
    "#load again\n",
    "for dir in glob.glob('C:/Users/rashi/Desktop/Elevator/zipdata1/*'):\n",
    "    image_files = glob.glob(dir + '/*.jpg')\n",
    "    label = dir.split('\\\\')[-1]\n",
    "    print(label, len(image_files))\n",
    "    for image_file in image_files:\n",
    "        image = cv2.imread(image_file,cv2.IMREAD_UNCHANGED)\n",
    "        image = cv2.resize(image, dsize=(64,64),interpolation = cv2.INTER_AREA)\n",
    "        if len(image.shape) == 2: # if a gray-scale image\n",
    "            #image = rgb2gray(image)\n",
    "            image = gray2rbg(image)\n",
    "            image = np.expand_dims(image, axis=2)\n",
    "            \n",
    "        images.append(image)\n",
    "        X.append(image)\n",
    "        y.append(label)\n",
    "        \n",
    "        label2 = [int(i) for i in label]\n",
    "        \n",
    "        if len(label2)!=2:\n",
    "            itr = 2-len(label2)\n",
    "            for _ in range(itr):\n",
    "                label2.append(10)\n",
    "    \n",
    "        y2.append(np.array(label2))\n",
    "    label2=0\n",
    "#convert to numpy array\n",
    "test_x = np.ones((len(X),64,64,3))\n",
    "for i in range(len(X)):\n",
    "    test_x[i] = X[i]\n",
    "y = np.array(y2)\n",
    "\n",
    "print(len(images),test_x.shape, y.shape)\n",
    "\n"
   ]
  },
  {
   "cell_type": "code",
   "execution_count": null,
   "metadata": {},
   "outputs": [],
   "source": [
    "n = 6\n",
    "indices = np.random.choice(len(test_x), 4*4)\n",
    "plt.figure(figsize=(10,10))\n",
    "plt.gray()\n",
    "i = 1\n",
    "for index in indices:\n",
    "    title = [x for x in y[index] if x!=10]\n",
    "    plt.subplot(n,n,i), plt.imshow(np.squeeze(images[index])), plt.axis('off'), plt.title(title, size=20)\n",
    "    i += 1\n",
    "plt.show()"
   ]
  },
  {
   "cell_type": "code",
   "execution_count": null,
   "metadata": {},
   "outputs": [],
   "source": [
    "#save on disk in numpy format    \n",
    "np.save('multi_digit__x.npy',X)\n",
    "np.save('multi_digit_y.npy',y)"
   ]
  },
  {
   "cell_type": "markdown",
   "metadata": {},
   "source": [
    "### Data Augmentation techniques "
   ]
  },
  {
   "cell_type": "markdown",
   "metadata": {},
   "source": [
    "1. Flipping the image\n",
    "2. "
   ]
  },
  {
   "cell_type": "code",
   "execution_count": null,
   "metadata": {},
   "outputs": [],
   "source": [
    "idx=600\n",
    "from sklearn.utils import shuffle\n",
    "x_new, y_new = shuffle(X,y, replace=True, random_state=1234)\n",
    "plt.imshow(x_new[idx])"
   ]
  },
  {
   "cell_type": "code",
   "execution_count": null,
   "metadata": {},
   "outputs": [],
   "source": [
    "\n",
    "flipped = tf.image.adjust_brightness(x_new[idx],0.7)\n",
    "grayscaled = tf.image.rot90(x_new[idx])\n",
    "central_crop = tf.image.central_crop(x_new[idx], central_fraction=0.6)\n",
    "\n",
    "with tf.Session() as session:\n",
    "    img1 =session.run(flipped)\n",
    "    img2 = session.run(grayscaled)\n",
    "    img3 = session.run(central_crop)\n",
    "plt.imshow(img1)"
   ]
  },
  {
   "cell_type": "code",
   "execution_count": null,
   "metadata": {},
   "outputs": [],
   "source": [
    "plt.imshow(img2)"
   ]
  },
  {
   "cell_type": "code",
   "execution_count": null,
   "metadata": {},
   "outputs": [],
   "source": [
    "plt.imshow(img3)"
   ]
  },
  {
   "cell_type": "code",
   "execution_count": null,
   "metadata": {},
   "outputs": [],
   "source": [
    "img3.shape"
   ]
  },
  {
   "cell_type": "code",
   "execution_count": null,
   "metadata": {},
   "outputs": [],
   "source": [
    "from tensorflow.keras.preprocessing.image import ImageDataGenerator\n",
    "from matplotlib.pyplot import imread, imshow, subplots, show\n",
    "\n",
    "\n",
    "def plot(data_generator, images):\n",
    "    \"\"\"\n",
    "    Plots 4 images generated by an object of the ImageDataGenerator class.\n",
    "    \"\"\"\n",
    "    data_generator.fit(images)\n",
    "    image_iterator = data_generator.flow(images)\n",
    "    \n",
    "    # Plot the images given by the iterator\n",
    "    fig, rows = subplots(nrows=1, ncols=4, figsize=(18,18))\n",
    "    for row in rows:\n",
    "        row.imshow(image_iterator.next()[0].astype('int'))\n",
    "        row.axis('off')\n",
    "    show()"
   ]
  },
  {
   "cell_type": "code",
   "execution_count": null,
   "metadata": {},
   "outputs": [],
   "source": [
    "data_generator = ImageDataGenerator(rotation_range=45)\n",
    "plot(data_generator, np.expand_dims(x_new[idx], axis=0))"
   ]
  },
  {
   "cell_type": "code",
   "execution_count": null,
   "metadata": {},
   "outputs": [],
   "source": [
    "data_generator = ImageDataGenerator(width_shift_range=0.3)\n",
    "plot(data_generator, np.expand_dims(x_new[idx], axis=0))"
   ]
  },
  {
   "cell_type": "code",
   "execution_count": null,
   "metadata": {},
   "outputs": [],
   "source": [
    "data_generator = ImageDataGenerator(height_shift_range=0.3)\n",
    "plot(data_generator, np.expand_dims(x_new[idx], axis=0))"
   ]
  },
  {
   "cell_type": "code",
   "execution_count": null,
   "metadata": {},
   "outputs": [],
   "source": [
    "data_generator = ImageDataGenerator(shear_range=45.0)\n",
    "plot(data_generator, np.expand_dims(x_new[idx], axis=0))"
   ]
  },
  {
   "cell_type": "code",
   "execution_count": null,
   "metadata": {},
   "outputs": [],
   "source": [
    "data_generator = ImageDataGenerator(zoom_range=[0.5, 1.5])\n",
    "plot(data_generator, np.expand_dims(x_new[idx], axis=0))"
   ]
  },
  {
   "cell_type": "code",
   "execution_count": null,
   "metadata": {},
   "outputs": [],
   "source": [
    "data_generator = ImageDataGenerator(channel_shift_range=150.0)\n",
    "plot(data_generator, np.expand_dims(x_new[idx], axis=0))"
   ]
  },
  {
   "cell_type": "code",
   "execution_count": null,
   "metadata": {},
   "outputs": [],
   "source": []
  },
  {
   "cell_type": "code",
   "execution_count": null,
   "metadata": {},
   "outputs": [],
   "source": [
    "import tensorflow as tf\n",
    "tf.enable_eager_execution()\n",
    "import numpy as np\n",
    "import matplotlib.pyplot as plt\n",
    "\n",
    "def plot_images(dataset, n_images, samples_per_image):\n",
    "    output = np.zeros((32 * n_images, 32 * samples_per_image, 3))\n",
    "\n",
    "    row = 0\n",
    "    for images in dataset.repeat(samples_per_image).batch(n_images):\n",
    "        output[:, row*32:(row+1)*32] = np.vstack(images.numpy())\n",
    "        row += 1\n",
    "\n",
    "    plt.figure()\n",
    "    plt.imshow(output)\n",
    "    plt.show()\n",
    "\n",
    "def flip(x: tf.Tensor) -> tf.Tensor:\n",
    "    \"\"\"Flip augmentation\n",
    "\n",
    "    Args:\n",
    "        x: Image to flip\n",
    "\n",
    "    Returns:\n",
    "        Augmented image\n",
    "    \"\"\"\n",
    "    x = tf.image.random_flip_left_right(x)\n",
    "    x = tf.image.random_flip_up_down(x)\n",
    "\n",
    "    return x\n",
    "\n",
    "def color(x: tf.Tensor) -> tf.Tensor:\n",
    "    \"\"\"Color augmentation\n",
    "\n",
    "    Args:\n",
    "        x: Image\n",
    "\n",
    "    Returns:\n",
    "        Augmented image\n",
    "    \"\"\"\n",
    "    x = tf.image.random_hue(x, 0.08)\n",
    "    x = tf.image.random_saturation(x, 0.6, 1.6)\n",
    "    x = tf.image.random_brightness(x, 0.05)\n",
    "    x = tf.image.random_contrast(x, 0.7, 1.3)\n",
    "    return x\n",
    "\n",
    "def rotate(x: tf.Tensor) -> tf.Tensor:\n",
    "    \"\"\"Rotation augmentation\n",
    "\n",
    "    Args:\n",
    "        x: Image\n",
    "\n",
    "    Returns:\n",
    "        Augmented image\n",
    "    \"\"\"\n",
    "\n",
    "    return tf.image.rot90(x, tf.random_uniform(shape=[], minval=0, maxval=4, dtype=tf.int32))\n",
    "\n",
    "def zoom(x: tf.Tensor) -> tf.Tensor:\n",
    "    \"\"\"Zoom augmentation\n",
    "\n",
    "    Args:\n",
    "        x: Image\n",
    "\n",
    "    Returns:\n",
    "        Augmented image\n",
    "    \"\"\"\n",
    "\n",
    "    # Generate 20 crop settings, ranging from a 1% to 20% crop.\n",
    "    scales = list(np.arange(0.8, 1.0, 0.01))\n",
    "    boxes = np.zeros((len(scales), 4))\n",
    "\n",
    "    for i, scale in enumerate(scales):\n",
    "        x1 = y1 = 0.5 - (0.5 * scale)\n",
    "        x2 = y2 = 0.5 + (0.5 * scale)\n",
    "        boxes[i] = [x1, y1, x2, y2]\n",
    "\n",
    "    def random_crop(img):\n",
    "        # Create different crops for an image\n",
    "        crops = tf.image.crop_and_resize([img], boxes=boxes, box_ind=np.zeros(len(scales)), crop_size=(32, 32))\n",
    "        # Return a random crop\n",
    "        return crops[tf.random_uniform(shape=[], minval=0, maxval=len(scales), dtype=tf.int32)]\n",
    "\n",
    "\n",
    "    choice = tf.random_uniform(shape=[], minval=0., maxval=1., dtype=tf.float32)\n",
    "\n",
    "    # Only apply cropping 50% of the time\n",
    "    return tf.cond(choice < 0.5, lambda: x, lambda: random_crop(x))\n",
    "\n",
    "(x_train, y_train), (x_test, y_test) = tf.keras.datasets.cifar10.load_data()\n",
    "\n",
    "data = (x_train[0:8] / 255).astype(np.float32)\n",
    "dataset = tf.data.Dataset.from_tensor_slices(data)\n",
    "\n",
    "# Add augmentations\n",
    "augmentations = [flip, color, zoom, rotate]\n",
    "\n",
    "for f in augmentations:\n",
    "    dataset = dataset.map(lambda x: tf.cond(tf.random_uniform([], 0, 1) > 0.75, lambda: f(x), lambda: x), num_parallel_calls=4)\n",
    "dataset = dataset.map(lambda x: tf.clip_by_value(x, 0, 1))\n",
    "\n",
    "plot_images(dataset, n_images=8, samples_per_image=10)"
   ]
  },
  {
   "cell_type": "code",
   "execution_count": null,
   "metadata": {},
   "outputs": [],
   "source": []
  }
 ],
 "metadata": {
  "kernelspec": {
   "display_name": "Python 3",
   "language": "python",
   "name": "python3"
  },
  "language_info": {
   "codemirror_mode": {
    "name": "ipython",
    "version": 3
   },
   "file_extension": ".py",
   "mimetype": "text/x-python",
   "name": "python",
   "nbconvert_exporter": "python",
   "pygments_lexer": "ipython3",
   "version": "3.7.7"
  }
 },
 "nbformat": 4,
 "nbformat_minor": 4
}
